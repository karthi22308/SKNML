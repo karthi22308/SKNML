{
 "cells": [
  {
   "cell_type": "code",
   "execution_count": 1,
   "id": "95559d3c-6359-48d1-ba0a-6d37a9a4f1ee",
   "metadata": {},
   "outputs": [
    {
     "name": "stdout",
     "output_type": "stream",
     "text": [
      "   Candidate_ID                                      Feedback_Text  \\\n",
      "0           C26  The customer support was very helpful and reso...   \n",
      "1           C39  The customer support was very helpful and reso...   \n",
      "2           C76      Great platform with minimal technical issues.   \n",
      "3           C71  More detailed instructions would be helpful fo...   \n",
      "4           C57  It was difficult to navigate through the website.   \n",
      "5           C53  The customer support was very helpful and reso...   \n",
      "6           C55      Great platform with minimal technical issues.   \n",
      "7           C36        The system was slow and caused frustration.   \n",
      "8           C85        The system was slow and caused frustration.   \n",
      "9           C21      Great platform with minimal technical issues.   \n",
      "10          C71        The chatbot provided incorrect information.   \n",
      "11          C35  It was difficult to navigate through the website.   \n",
      "12          C94  More detailed instructions would be helpful fo...   \n",
      "13          C61  More detailed instructions would be helpful fo...   \n",
      "14          C56          The UI/UX design could be more intuitive.   \n",
      "15          C23  It was difficult to navigate through the website.   \n",
      "16          C83          The UI/UX design could be more intuitive.   \n",
      "17          C56  The customer support was very helpful and reso...   \n",
      "18          C17           Excellent overall experience. Thank you!   \n",
      "19          C68      Great platform with minimal technical issues.   \n",
      "20          C18        The chatbot provided incorrect information.   \n",
      "21          C54          The UI/UX design could be more intuitive.   \n",
      "22          C66  I had trouble uploading documents; please impr...   \n",
      "23          C98  More detailed instructions would be helpful fo...   \n",
      "24          C87  I had trouble uploading documents; please impr...   \n",
      "25          C61          The UI/UX design could be more intuitive.   \n",
      "26          C28           Excellent overall experience. Thank you!   \n",
      "27          C24      Great platform with minimal technical issues.   \n",
      "28          C64      Great platform with minimal technical issues.   \n",
      "29          C95          The UI/UX design could be more intuitive.   \n",
      "30          C16      Great platform with minimal technical issues.   \n",
      "31           C4  The customer support was very helpful and reso...   \n",
      "32          C22  The customer support was very helpful and reso...   \n",
      "33          C72          The UI/UX design could be more intuitive.   \n",
      "34           C5        The chatbot provided incorrect information.   \n",
      "35          C23  I had trouble uploading documents; please impr...   \n",
      "36          C87  I had trouble uploading documents; please impr...   \n",
      "37          C51          The UI/UX design could be more intuitive.   \n",
      "38          C58  I had trouble uploading documents; please impr...   \n",
      "39          C22        The system was slow and caused frustration.   \n",
      "40          C83     The application process was seamless and easy.   \n",
      "41           C3  It was difficult to navigate through the website.   \n",
      "42           C9  The customer support was very helpful and reso...   \n",
      "43          C31          The UI/UX design could be more intuitive.   \n",
      "44          C91  The customer support was very helpful and reso...   \n",
      "45          C83  More detailed instructions would be helpful fo...   \n",
      "46          C92        The system was slow and caused frustration.   \n",
      "47           C7  The customer support was very helpful and reso...   \n",
      "48          C21           Excellent overall experience. Thank you!   \n",
      "49          C29        The chatbot provided incorrect information.   \n",
      "\n",
      "   Feedback_Date  \n",
      "0     2024-01-01  \n",
      "1     2024-01-02  \n",
      "2     2024-01-03  \n",
      "3     2024-01-04  \n",
      "4     2024-01-05  \n",
      "5     2024-01-06  \n",
      "6     2024-01-07  \n",
      "7     2024-01-08  \n",
      "8     2024-01-09  \n",
      "9     2024-01-10  \n",
      "10    2024-01-11  \n",
      "11    2024-01-12  \n",
      "12    2024-01-13  \n",
      "13    2024-01-14  \n",
      "14    2024-01-15  \n",
      "15    2024-01-16  \n",
      "16    2024-01-17  \n",
      "17    2024-01-18  \n",
      "18    2024-01-19  \n",
      "19    2024-01-20  \n",
      "20    2024-01-21  \n",
      "21    2024-01-22  \n",
      "22    2024-01-23  \n",
      "23    2024-01-24  \n",
      "24    2024-01-25  \n",
      "25    2024-01-26  \n",
      "26    2024-01-27  \n",
      "27    2024-01-28  \n",
      "28    2024-01-29  \n",
      "29    2024-01-30  \n",
      "30    2024-01-31  \n",
      "31    2024-02-01  \n",
      "32    2024-02-02  \n",
      "33    2024-02-03  \n",
      "34    2024-02-04  \n",
      "35    2024-02-05  \n",
      "36    2024-02-06  \n",
      "37    2024-02-07  \n",
      "38    2024-02-08  \n",
      "39    2024-02-09  \n",
      "40    2024-02-10  \n",
      "41    2024-02-11  \n",
      "42    2024-02-12  \n",
      "43    2024-02-13  \n",
      "44    2024-02-14  \n",
      "45    2024-02-15  \n",
      "46    2024-02-16  \n",
      "47    2024-02-17  \n",
      "48    2024-02-18  \n",
      "49    2024-02-19  \n",
      "Dummy feedback data saved to 'dummy_feedback_data.xlsx'\n"
     ]
    }
   ],
   "source": [
    "import pandas as pd\n",
    "import random\n",
    "\n",
    "# Generate dummy feedback data\n",
    "def generate_feedback_data():\n",
    "    feedback_list = [\n",
    "        \"The application process was seamless and easy.\",\n",
    "        \"The system was slow and caused frustration.\",\n",
    "        \"The customer support was very helpful and resolved my issue quickly.\",\n",
    "        \"The UI/UX design could be more intuitive.\",\n",
    "        \"I had trouble uploading documents; please improve the file upload system.\",\n",
    "        \"Excellent overall experience. Thank you!\",\n",
    "        \"It was difficult to navigate through the website.\",\n",
    "        \"More detailed instructions would be helpful for first-time users.\",\n",
    "        \"The chatbot provided incorrect information.\",\n",
    "        \"Great platform with minimal technical issues.\"\n",
    "    ]\n",
    "    \n",
    "    data = {\n",
    "        \"Candidate_ID\": [f\"C{random.randint(1, 100)}\" for _ in range(50)],\n",
    "        \"Feedback_Text\": [random.choice(feedback_list) for _ in range(50)],\n",
    "        \"Feedback_Date\": pd.date_range(start=\"2024-01-01\", periods=50).to_list(),\n",
    "    }\n",
    "    feedback_df = pd.DataFrame(data)\n",
    "    feedback_df.to_excel(\"dummy_feedback_data.xlsx\", index=False)\n",
    "    return feedback_df\n",
    "\n",
    "# Generate and save data\n",
    "df = generate_feedback_data()\n",
    "print(df)\n",
    "print(\"Dummy feedback data saved to 'dummy_feedback_data.xlsx'\")\n"
   ]
  },
  {
   "cell_type": "code",
   "execution_count": 3,
   "id": "b6234cb8-9e64-49fc-b10a-d2abffb51c4e",
   "metadata": {},
   "outputs": [
    {
     "name": "stdout",
     "output_type": "stream",
     "text": [
      "Sentiment Analysis Completed\n",
      "  Candidate_ID                                      Feedback_Text  \\\n",
      "0          C90           Excellent overall experience. Thank you!   \n",
      "1          C18  It was difficult to navigate through the website.   \n",
      "2          C31      Great platform with minimal technical issues.   \n",
      "3          C31  More detailed instructions would be helpful fo...   \n",
      "4          C13     The application process was seamless and easy.   \n",
      "\n",
      "  Feedback_Date Sentiment  \n",
      "0    2024-01-01  Positive  \n",
      "1    2024-01-02  Negative  \n",
      "2    2024-01-03  Positive  \n",
      "3    2024-01-04  Positive  \n",
      "4    2024-01-05  Positive  \n"
     ]
    }
   ],
   "source": [
    "from textblob import TextBlob\n",
    "\n",
    "# Perform sentiment analysis\n",
    "def analyze_sentiment(feedback_text):\n",
    "    sentiment = TextBlob(feedback_text).sentiment.polarity\n",
    "    if sentiment > 0:\n",
    "        return \"Positive\"\n",
    "    elif sentiment < 0:\n",
    "        return \"Negative\"\n",
    "    else:\n",
    "        return \"Neutral\"\n",
    "\n",
    "# Add sentiment to the dataframe\n",
    "df[\"Sentiment\"] = df[\"Feedback_Text\"].apply(analyze_sentiment)\n",
    "print(\"Sentiment Analysis Completed\")\n",
    "print(df.head())\n"
   ]
  },
  {
   "cell_type": "code",
   "execution_count": 4,
   "id": "eb230152-746d-45d9-80d5-661a4b71c602",
   "metadata": {},
   "outputs": [
    {
     "name": "stdout",
     "output_type": "stream",
     "text": [
      "Extracted Topics:\n",
      "Topic 1: ux, ui, intuitive, design, difficult\n",
      "Topic 2: chatbot, provided, incorrect, information, overall\n",
      "Topic 3: helpful, platform, technical, minimal, issues\n"
     ]
    }
   ],
   "source": [
    "from sklearn.feature_extraction.text import CountVectorizer\n",
    "from sklearn.decomposition import LatentDirichletAllocation\n",
    "\n",
    "# Extract topics from feedback\n",
    "def extract_topics(feedback_texts, n_topics=3):\n",
    "    vectorizer = CountVectorizer(stop_words=\"english\")\n",
    "    feedback_matrix = vectorizer.fit_transform(feedback_texts)\n",
    "    \n",
    "    lda = LatentDirichletAllocation(n_components=n_topics, random_state=42)\n",
    "    lda.fit(feedback_matrix)\n",
    "    \n",
    "    topics = []\n",
    "    for topic_idx, topic in enumerate(lda.components_):\n",
    "        topic_words = [vectorizer.get_feature_names_out()[i] for i in topic.argsort()[:-5 - 1:-1]]\n",
    "        topics.append(f\"Topic {topic_idx + 1}: {', '.join(topic_words)}\")\n",
    "    return topics\n",
    "\n",
    "# Extract and display topics\n",
    "topics = extract_topics(df[\"Feedback_Text\"])\n",
    "print(\"Extracted Topics:\")\n",
    "for topic in topics:\n",
    "    print(topic)\n"
   ]
  },
  {
   "cell_type": "code",
   "execution_count": 5,
   "id": "70714887-fc17-409c-8a3d-5a56a6e0bcbe",
   "metadata": {},
   "outputs": [
    {
     "name": "stdout",
     "output_type": "stream",
     "text": [
      "Actionable Insights:\n",
      "Positive Feedback: 28\n",
      "Negative Feedback: 14\n",
      "Neutral Feedback: 8\n",
      "Top Suggestions: ['It was difficult to navigate through the website.', 'It was difficult to navigate through the website.', 'The system was slow and caused frustration.']\n"
     ]
    }
   ],
   "source": [
    "# Generate actionable insights based on sentiment and topics\n",
    "def generate_insights(df):\n",
    "    insights = {\n",
    "        \"Positive Feedback\": len(df[df[\"Sentiment\"] == \"Positive\"]),\n",
    "        \"Negative Feedback\": len(df[df[\"Sentiment\"] == \"Negative\"]),\n",
    "        \"Neutral Feedback\": len(df[df[\"Sentiment\"] == \"Neutral\"]),\n",
    "        \"Top Suggestions\": df[df[\"Sentiment\"] == \"Negative\"][\"Feedback_Text\"].tolist()[:3]\n",
    "    }\n",
    "    return insights\n",
    "\n",
    "# Get insights\n",
    "insights = generate_insights(df)\n",
    "print(\"Actionable Insights:\")\n",
    "for key, value in insights.items():\n",
    "    print(f\"{key}: {value}\")\n"
   ]
  },
  {
   "cell_type": "code",
   "execution_count": 8,
   "id": "f960bd9e-8299-4ea5-a6d3-cd4f6ae6d630",
   "metadata": {},
   "outputs": [
    {
     "name": "stderr",
     "output_type": "stream",
     "text": [
      "C:\\Users\\karth\\AppData\\Local\\Temp\\ipykernel_2496\\2926207942.py:8: FutureWarning: \n",
      "\n",
      "Passing `palette` without assigning `hue` is deprecated and will be removed in v0.14.0. Assign the `x` variable to `hue` and set `legend=False` for the same effect.\n",
      "\n",
      "  sns.barplot(x=sentiment_counts.index, y=sentiment_counts.values, palette=\"viridis\")\n"
     ]
    },
    {
     "data": {
      "image/png": "[encoded data removed]",
      "text/plain": [
       "<Figure size 600x400 with 1 Axes>"
      ]
     },
     "metadata": {},
     "output_type": "display_data"
    }
   ],
   "source": [
    "import matplotlib.pyplot as plt\n",
    "import seaborn as sns\n",
    "\n",
    "# Sentiment distribution plot\n",
    "def plot_sentiment_distribution(df):\n",
    "    sentiment_counts = df[\"Sentiment\"].value_counts()\n",
    "    plt.figure(figsize=(6, 4))\n",
    "    sns.barplot(x=sentiment_counts.index, y=sentiment_counts.values, palette=\"viridis\")\n",
    "    plt.title(\"Sentiment Distribution\")\n",
    "    plt.xlabel(\"Sentiment\")\n",
    "    plt.ylabel(\"Count\")\n",
    "    plt.show()\n",
    "\n",
    "plot_sentiment_distribution(df)\n"
   ]
  },
  {
   "cell_type": "code",
   "execution_count": null,
   "id": "9f3fd90f-266b-47a0-ad16-f484fc263a3e",
   "metadata": {},
   "outputs": [],
   "source": []
  }
 ],
 "metadata": {
  "kernelspec": {
   "display_name": "Python 3 (ipykernel)",
   "language": "python",
   "name": "python3"
  },
  "language_info": {
   "codemirror_mode": {
    "name": "ipython",
    "version": 3
   },
   "file_extension": ".py",
   "mimetype": "text/x-python",
   "name": "python",
   "nbconvert_exporter": "python",
   "pygments_lexer": "ipython3",
   "version": "3.13.1"
  }
 },
 "nbformat": 4,
 "nbformat_minor": 5
}
